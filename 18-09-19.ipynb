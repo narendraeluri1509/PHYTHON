{
 "cells": [
  {
   "cell_type": "markdown",
   "metadata": {},
   "source": [
    "# 7 segment display"
   ]
  },
  {
   "cell_type": "code",
   "execution_count": 6,
   "metadata": {},
   "outputs": [
    {
     "name": "stdout",
     "output_type": "stream",
     "text": [
      "Enter a number122\n",
      "12\n"
     ]
    }
   ],
   "source": [
    "d={0:6,1:2,2:5,3:5,4:4,5:5,6:6,7:3,8:6,9:6}\n",
    "p=(input(\"Enter a number\"))\n",
    "c=0\n",
    "for i in p:\n",
    "    c=c+d[int(i)]\n",
    "print(c) "
   ]
  },
  {
   "cell_type": "code",
   "execution_count": null,
   "metadata": {},
   "outputs": [
    {
     "name": "stdout",
     "output_type": "stream",
     "text": [
      "2\n",
      "lrdlu\n",
      "0 0\n"
     ]
    }
   ],
   "source": [
    "t=int(input())\n",
    "i=1\n",
    "d={'l':-1,'r':1,'u':1,'d':-1}\n",
    "x=0\n",
    "y=0\n",
    "while(i<=t):\n",
    "    n=(input())\n",
    "    for j in n:\n",
    "       \n",
    "        if (d.keys()=='l'):\n",
    "            x=x-1\n",
    "        elif(d.keys()=='r'):\n",
    "            x=x+1\n",
    "        elif(d.keys()=='u'):\n",
    "            y=y+1\n",
    "        elif(d.keys()=='d'):\n",
    "            y=y-1\n",
    "    print(x,y)\n",
    "    i=i+1"
   ]
  },
  {
   "cell_type": "code",
   "execution_count": 2,
   "metadata": {},
   "outputs": [
    {
     "name": "stdout",
     "output_type": "stream",
     "text": [
      "LLLUUUURD\n",
      "-2 3\n"
     ]
    }
   ],
   "source": [
    "c=input()\n",
    "x=0\n",
    "y=0\n",
    "for i in c:\n",
    "    if i=='L':\n",
    "        x=x-1\n",
    "    elif i=='R':\n",
    "        x=x+1\n",
    "    elif i=='U':\n",
    "        y=y+1\n",
    "    elif i=='D':\n",
    "        y=y-1\n",
    "print(x,y)        "
   ]
  },
  {
   "cell_type": "code",
   "execution_count": null,
   "metadata": {},
   "outputs": [],
   "source": []
  }
 ],
 "metadata": {
  "kernelspec": {
   "display_name": "Python 3",
   "language": "python",
   "name": "python3"
  },
  "language_info": {
   "codemirror_mode": {
    "name": "ipython",
    "version": 3
   },
   "file_extension": ".py",
   "mimetype": "text/x-python",
   "name": "python",
   "nbconvert_exporter": "python",
   "pygments_lexer": "ipython3",
   "version": "3.7.3"
  }
 },
 "nbformat": 4,
 "nbformat_minor": 2
}
