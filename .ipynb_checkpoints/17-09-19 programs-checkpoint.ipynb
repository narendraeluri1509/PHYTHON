{
 "cells": [
  {
   "cell_type": "code",
   "execution_count": 3,
   "metadata": {},
   "outputs": [
    {
     "name": "stdout",
     "output_type": "stream",
     "text": [
      "Enter no of test cases2\n",
      "Enter the floor number3\n",
      "a\n",
      "Enter the floor number5\n",
      "a\n"
     ]
    }
   ],
   "source": [
    "t=int(input(\"Enter no of test cases\"))\n",
    "a=0\n",
    "b=7\n",
    "for i in range(t):\n",
    "    n=int(input(\"Enter the floor number\"))\n",
    "    d1=abs(a-n)\n",
    "    d2=abs(b-n)\n",
    "    if d1<=d2:\n",
    "        print(\"a\")\n",
    "        a=n\n",
    "    else:\n",
    "        print(\"b\")\n",
    "        b=n"
   ]
  },
  {
   "cell_type": "code",
   "execution_count": 6,
   "metadata": {},
   "outputs": [
    {
     "name": "stdout",
     "output_type": "stream",
     "text": [
      "2\n",
      "virat tariv\n",
      "yes\n",
      "tarak karat\n",
      "yes\n"
     ]
    }
   ],
   "source": [
    "t=int(input())\n",
    "for i in range(t):\n",
    "    s=input().split()\n",
    "    s1=sorted(s[0])\n",
    "    s2=sorted(s[1])\n",
    "    if s1==s2:\n",
    "        print(\"yes\")\n",
    "    else:\n",
    "        print(\"no\")"
   ]
  },
  {
   "cell_type": "code",
   "execution_count": null,
   "metadata": {},
   "outputs": [],
   "source": []
  }
 ],
 "metadata": {
  "kernelspec": {
   "display_name": "Python 3",
   "language": "python",
   "name": "python3"
  },
  "language_info": {
   "codemirror_mode": {
    "name": "ipython",
    "version": 3
   },
   "file_extension": ".py",
   "mimetype": "text/x-python",
   "name": "python",
   "nbconvert_exporter": "python",
   "pygments_lexer": "ipython3",
   "version": "3.7.3"
  }
 },
 "nbformat": 4,
 "nbformat_minor": 2
}
