{
 "cells": [
  {
   "cell_type": "code",
   "execution_count": 6,
   "metadata": {},
   "outputs": [
    {
     "name": "stdout",
     "output_type": "stream",
     "text": [
      "1\n",
      "starting hr1\n",
      "starting min44\n",
      "ending hr2\n",
      "ending min14\n",
      "1 30\n"
     ]
    }
   ],
   "source": [
    "n=input()\n",
    "a=int(input(\"starting hr\"))\n",
    "b=int(input(\"starting min\"))\n",
    "c=int(input(\"ending hr\"))\n",
    "d=int(input(\"ending min\"))\n",
    "if a==c:\n",
    "    x=c-a\n",
    "    y=abs(d-b)\n",
    "    print(x,y)\n",
    "else:\n",
    "    print "
   ]
  },
  {
   "cell_type": "code",
   "execution_count": 8,
   "metadata": {},
   "outputs": [
    {
     "name": "stdout",
     "output_type": "stream",
     "text": [
      "1\n",
      "23 34 24 23\n",
      "0 49\n"
     ]
    }
   ],
   "source": [
    "t=int(input())\n",
    "for i in range(t):\n",
    "    time=list(map(int,input().split()))\n",
    "    sh=time[0]\n",
    "    sm=time[1]\n",
    "    eh=time[2]\n",
    "    em=time[3]\n",
    "    h=0\n",
    "    fm=abs(sm-60)+em\n",
    "    if fm>=60:\n",
    "        fm=abs(fm-60)\n",
    "        h+=1\n",
    "    fh=(abs(sh-eh)-1)+h\n",
    "    print(fh,fm)"
   ]
  },
  {
   "cell_type": "code",
   "execution_count": null,
   "metadata": {},
   "outputs": [],
   "source": []
  }
 ],
 "metadata": {
  "kernelspec": {
   "display_name": "Python 3",
   "language": "python",
   "name": "python3"
  },
  "language_info": {
   "codemirror_mode": {
    "name": "ipython",
    "version": 3
   },
   "file_extension": ".py",
   "mimetype": "text/x-python",
   "name": "python",
   "nbconvert_exporter": "python",
   "pygments_lexer": "ipython3",
   "version": "3.7.3"
  }
 },
 "nbformat": 4,
 "nbformat_minor": 2
}
