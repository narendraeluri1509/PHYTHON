{
 "cells": [
  {
   "cell_type": "code",
   "execution_count": 3,
   "metadata": {},
   "outputs": [
    {
     "name": "stdout",
     "output_type": "stream",
     "text": [
      "enter the total num of list Elements: 5\n",
      "enter the value of %d Element : 3\n",
      "enter the value of %d Element : 4\n",
      "enter the value of %d Element : 6\n",
      "enter the value of %d Element : 4\n",
      "enter the value of %d Element : 8\n",
      "Ascending Order is :  [3, 4, 4, 6, 8]\n",
      "descending order is :  [8, 6, 4, 4, 3]\n"
     ]
    }
   ],
   "source": [
    "N=[]\n",
    "\n",
    "Number = int(input(\"enter the total num of list Elements: \"))\n",
    "for i in range(1, Number + 1):\n",
    "    value = int(input(\"enter the value of %d Element : \" ))\n",
    "    N.append(value)\n",
    "    \n",
    "N.sort()\n",
    "print(\"Ascending Order is : \", N)\n",
    "\n",
    "N.reverse()\n",
    "print(\"descending order is : \", N)"
   ]
  },
  {
   "cell_type": "code",
   "execution_count": null,
   "metadata": {},
   "outputs": [],
   "source": []
  }
 ],
 "metadata": {
  "kernelspec": {
   "display_name": "Python 3",
   "language": "python",
   "name": "python3"
  },
  "language_info": {
   "codemirror_mode": {
    "name": "ipython",
    "version": 3
   },
   "file_extension": ".py",
   "mimetype": "text/x-python",
   "name": "python",
   "nbconvert_exporter": "python",
   "pygments_lexer": "ipython3",
   "version": "3.7.3"
  }
 },
 "nbformat": 4,
 "nbformat_minor": 2
}
